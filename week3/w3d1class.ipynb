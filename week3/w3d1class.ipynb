{
 "cells": [
  {
   "cell_type": "code",
   "execution_count": 2,
   "metadata": {
    "scrolled": true
   },
   "outputs": [
    {
     "name": "stdout",
     "output_type": "stream",
     "text": [
      "loving\n",
      "eclipsing\n",
      "contemplating\n",
      "coding\n",
      "coding\n",
      "typing\n",
      "creating\n",
      "testing\n",
      "innovating-waterskiing!smiling.panicking\n",
      "pythoning\n"
     ]
    }
   ],
   "source": [
    "for line in open('file.txt'):\n",
    "    for word in line.split():\n",
    "        if word.endswith('ing'):\n",
    "            print(word)"
   ]
  },
  {
   "cell_type": "code",
   "execution_count": 3,
   "metadata": {},
   "outputs": [
    {
     "name": "stdout",
     "output_type": "stream",
     "text": [
      "*** Introductory Examples for the NLTK Book ***\n",
      "Loading text1, ..., text9 and sent1, ..., sent9\n",
      "Type the name of the text or sentence to view it.\n",
      "Type: 'texts()' or 'sents()' to list the materials.\n",
      "text1: Moby Dick by Herman Melville 1851\n",
      "text2: Sense and Sensibility by Jane Austen 1811\n",
      "text3: The Book of Genesis\n",
      "text4: Inaugural Address Corpus\n",
      "text5: Chat Corpus\n",
      "text6: Monty Python and the Holy Grail\n",
      "text7: Wall Street Journal\n",
      "text8: Personals Corpus\n",
      "text9: The Man Who Was Thursday by G . K . Chesterton 1908\n"
     ]
    }
   ],
   "source": [
    "import nltk\n",
    "from nltk.book import *"
   ]
  },
  {
   "cell_type": "code",
   "execution_count": 4,
   "metadata": {},
   "outputs": [
    {
     "name": "stdout",
     "output_type": "stream",
     "text": [
      "text1: Moby Dick by Herman Melville 1851\n",
      "text2: Sense and Sensibility by Jane Austen 1811\n",
      "text3: The Book of Genesis\n",
      "text4: Inaugural Address Corpus\n",
      "text5: Chat Corpus\n",
      "text6: Monty Python and the Holy Grail\n",
      "text7: Wall Street Journal\n",
      "text8: Personals Corpus\n",
      "text9: The Man Who Was Thursday by G . K . Chesterton 1908\n"
     ]
    }
   ],
   "source": [
    "texts()"
   ]
  },
  {
   "cell_type": "code",
   "execution_count": 6,
   "metadata": {},
   "outputs": [
    {
     "name": "stdout",
     "output_type": "stream",
     "text": [
      "sent1: Call me Ishmael .\n",
      "sent2: The family of Dashwood had long been settled in Sussex .\n",
      "sent3: In the beginning God created the heaven and the earth .\n",
      "sent4: Fellow - Citizens of the Senate and of the House of Representatives :\n",
      "sent5: I have a problem with people PMing me to lol JOIN\n",
      "sent6: SCENE 1 : [ wind ] [ clop clop clop ] KING ARTHUR : Whoa there !\n",
      "sent7: Pierre Vinken , 61 years old , will join the board as a nonexecutive director Nov. 29 .\n",
      "sent8: 25 SEXY MALE , seeks attrac older single lady , for discreet encounters .\n",
      "sent9: THE suburb of Saffron Park lay on the sunset side of London , as red and ragged as a cloud of sunset .\n"
     ]
    }
   ],
   "source": [
    "sents()"
   ]
  },
  {
   "cell_type": "code",
   "execution_count": 11,
   "metadata": {},
   "outputs": [
    {
     "name": "stdout",
     "output_type": "stream",
     "text": [
      "Displaying 14 of 14 matches:\n",
      "ng Arthur music stops ] ARTHUR : Old woman ! DENNIS : Man ! ARTHUR : Man . Sorr\n",
      " I did say ' sorry ' about the ' old woman ', but from the behind you looked --\n",
      "going to be any progress with the -- WOMAN : Dennis , there ' s some lovely fil\n",
      "e Britons . Who ' s castle is that ? WOMAN : King of the who ? ARTHUR : The Bri\n",
      " of the who ? ARTHUR : The Britons . WOMAN : Who are the Britons ? ARTHUR : Wel\n",
      "e all Britons , and I am your king . WOMAN : I didn ' t know we had a king . I \n",
      "racy in which the working classes -- WOMAN : Oh , there you go , bringing class\n",
      "n haste . Who lives in that castle ? WOMAN : No one live there . ARTHUR : Then \n",
      "e . ARTHUR : Then who is your lord ? WOMAN : We don ' t have a lord . ARTHUR : \n",
      "Be quiet ! I order you to be quiet ! WOMAN : Order , eh ? Who does he think he \n",
      "is ? Heh . ARTHUR : I am your king ! WOMAN : Well , I didn ' t vote for you . A\n",
      "RTHUR : You don ' t vote for kings . WOMAN : Well , how did you become king the\n",
      "ism is a way of preserving freedom . WOMAN : Oh , Dennis , forget about freedom\n",
      " : Are you saying ' ni ' to that old woman ? ARTHUR : Erm , yes . ROGER : Oh , \n"
     ]
    }
   ],
   "source": [
    "text6.concordance('woman')"
   ]
  },
  {
   "cell_type": "code",
   "execution_count": 35,
   "metadata": {
    "scrolled": true
   },
   "outputs": [
    {
     "name": "stdout",
     "output_type": "stream",
     "text": [
      "Pretty printing has been turned OFF\n"
     ]
    },
    {
     "data": {
      "image/png": "[encoded data removed]",
      "text/plain": [
       "<Figure size 432x288 with 1 Axes>"
      ]
     },
     "metadata": {},
     "output_type": "display_data"
    }
   ],
   "source": [
    "%matplotlib inline\n",
    "%pprint\n",
    "import numpy\n",
    "import matplotlib\n",
    "text4.dispersion_plot([\"woman\", \"women\",\"child\",\"citizens\", \"democracy\", \"freedom\", \"duties\", \"america\"])"
   ]
  },
  {
   "cell_type": "code",
   "execution_count": 36,
   "metadata": {},
   "outputs": [
    {
     "data": {
      "text/plain": [
       "145735"
      ]
     },
     "execution_count": 36,
     "metadata": {},
     "output_type": "execute_result"
    }
   ],
   "source": [
    "total=len(text4)"
   ]
  },
  {
   "cell_type": "code",
   "execution_count": 38,
   "metadata": {},
   "outputs": [
    {
     "data": {
      "text/plain": [
       "9754"
      ]
     },
     "execution_count": 38,
     "metadata": {},
     "output_type": "execute_result"
    }
   ],
   "source": [
    "unique=len(set(text4))"
   ]
  },
  {
   "cell_type": "code",
   "execution_count": 42,
   "metadata": {},
   "outputs": [
    {
     "data": {
      "text/plain": [
       "6.692970116993173"
      ]
     },
     "execution_count": 42,
     "metadata": {},
     "output_type": "execute_result"
    }
   ],
   "source": [
    "total=len(text4)\n",
    "unique=len(set(text4))\n",
    "lexicalDiversity = (unique/total)*100\n",
    "lexicalDiversity"
   ]
  },
  {
   "cell_type": "code",
   "execution_count": 43,
   "metadata": {},
   "outputs": [
    {
     "data": {
      "text/plain": [
       "14.941049825712529"
      ]
     },
     "execution_count": 43,
     "metadata": {},
     "output_type": "execute_result"
    }
   ],
   "source": [
    "total=len(text4)\n",
    "unique=len(set(text4))\n",
    "total/unique"
   ]
  },
  {
   "cell_type": "code",
   "execution_count": 45,
   "metadata": {},
   "outputs": [
    {
     "name": "stdout",
     "output_type": "stream",
     "text": [
      "a_in a_who young_who a_of a_as a_to young_of of_, a_whose young_.\n",
      "respectable_, charming_, young_, a_, other_in a_whom\n"
     ]
    }
   ],
   "source": [
    "text2.common_contexts([\"woman\", \"man\"])"
   ]
  },
  {
   "cell_type": "code",
   "execution_count": 46,
   "metadata": {},
   "outputs": [
    {
     "name": "stdout",
     "output_type": "stream",
     "text": [
      "old_, mortal_, a_' old_of old_'\n"
     ]
    }
   ],
   "source": [
    "text1.common_contexts([\"woman\", \"man\"])"
   ]
  },
  {
   "cell_type": "code",
   "execution_count": 50,
   "metadata": {},
   "outputs": [
    {
     "data": {
      "text/plain": [
       "FreqDist({',': 9397, 'to': 4063, '.': 3975, 'the': 3861, 'of': 3565, 'and': 3350, 'her': 2436, 'a': 2043, 'I': 2004, 'in': 1904, ...})"
      ]
     },
     "execution_count": 50,
     "metadata": {},
     "output_type": "execute_result"
    }
   ],
   "source": [
    "fdist2 = FreqDist(text2)\n",
    "fdist2"
   ]
  },
  {
   "cell_type": "code",
   "execution_count": 52,
   "metadata": {
    "scrolled": true
   },
   "outputs": [
    {
     "data": {
      "text/plain": [
       "[(',', 9397), ('to', 4063), ('.', 3975), ('the', 3861), ('of', 3565), ('and', 3350), ('her', 2436), ('a', 2043), ('I', 2004), ('in', 1904), ('was', 1846), ('it', 1568), ('\"', 1506), (';', 1419), ('she', 1333), ('be', 1305), ('that', 1297), ('for', 1234), ('not', 1212), ('as', 1179), ('you', 1037), ('with', 971), ('had', 969), ('his', 941), ('he', 895), (\"'\", 883), ('have', 807), ('at', 806), ('by', 737), ('is', 728), ('.\"', 721), ('s', 700), ('Elinor', 684), ('on', 676), ('all', 642), ('him', 633), ('so', 617), ('but', 597), ('which', 592), ('could', 568), ('Marianne', 566), ('my', 551), ('Mrs', 530), ('from', 527), ('would', 507), ('very', 492), ('no', 488), ('their', 463), ('them', 462), ('--', 461), ('been', 440), ('were', 437), ('me', 433), ('they', 428), ('more', 406), ('said', 397), (',\"', 396), ('any', 389), ('what', 375), ('this', 372), ('-', 366), ('every', 361), ('than', 360), ('will', 354), ('or', 353), ('your', 347), ('an', 346), ('such', 340), ('one', 304), ('do', 296), ('But', 289), ('!', 289), ('much', 287), ('sister', 282), ('only', 282), ('must', 279), ('own', 271), ('am', 270), ('Edward', 262), ('when', 261), ('who', 260), ('mother', 258), ('She', 258), ('herself', 255), ('Dashwood', 252), ('if', 249), ('The', 243), ('time', 237), ('know', 230), ('Jennings', 230), ('should', 228), ('are', 224), ('might', 215), ('Willoughby', 215), ('?\"', 213), ('did', 211), ('now', 210), ('there', 209), ('think', 209), ('Miss', 208)]"
      ]
     },
     "execution_count": 52,
     "metadata": {},
     "output_type": "execute_result"
    }
   ],
   "source": [
    "fdist2.most_common(100)"
   ]
  },
  {
   "cell_type": "code",
   "execution_count": 55,
   "metadata": {},
   "outputs": [
    {
     "data": {
      "text/plain": [
       "['said', 'than']"
      ]
     },
     "execution_count": 55,
     "metadata": {},
     "output_type": "execute_result"
    }
   ],
   "source": [
    "saying = ['After', 'all', 'is', 'said', 'and', 'done',\n",
    "...           'more', 'is', 'said', 'than', 'done']\n",
    "tokens=set(saying)\n",
    "tokens=sorted(tokens)\n",
    "tokens[-2:]"
   ]
  },
  {
   "cell_type": "code",
   "execution_count": 58,
   "metadata": {},
   "outputs": [
    {
     "data": {
      "text/plain": [
       "['CIRCUMNAVIGATION', 'Physiognomically', 'apprehensiveness', 'cannibalistically', 'characteristically', 'circumnavigating', 'circumnavigation', 'circumnavigations', 'comprehensiveness', 'hermaphroditical', 'indiscriminately', 'indispensableness', 'irresistibleness', 'physiognomically', 'preternaturalness', 'responsibilities', 'simultaneousness', 'subterraneousness', 'supernaturalness', 'superstitiousness', 'uncomfortableness', 'uncompromisedness', 'undiscriminating', 'uninterpenetratingly']"
      ]
     },
     "execution_count": 58,
     "metadata": {},
     "output_type": "execute_result"
    }
   ],
   "source": [
    "v=set(text1)\n",
    "longwords = [w for w in v if len(w) > 15]\n",
    "sorted(longwords)"
   ]
  }
 ],
 "metadata": {
  "kernelspec": {
   "display_name": "Python 3",
   "language": "python",
   "name": "python3"
  },
  "language_info": {
   "codemirror_mode": {
    "name": "ipython",
    "version": 3
   },
   "file_extension": ".py",
   "mimetype": "text/x-python",
   "name": "python",
   "nbconvert_exporter": "python",
   "pygments_lexer": "ipython3",
   "version": "3.7.0"
  }
 },
 "nbformat": 4,
 "nbformat_minor": 2
}
